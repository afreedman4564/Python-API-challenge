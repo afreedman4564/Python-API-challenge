{
 "cells": [
  {
   "cell_type": "code",
   "execution_count": 1,
   "id": "9a92af4b",
   "metadata": {},
   "outputs": [],
   "source": [
    "# Dependencies and Setup\n",
    "import matplotlib.pyplot as plt\n",
    "import pandas as pd\n",
    "import numpy as np\n",
    "import requests\n",
    "import gmaps\n",
    "import os\n",
    "from pprint import pprint\n",
    "\n",
    "# Import API key\n",
    "from api_keys import gkey\n",
    "gmaps.configure(api_key = gkey)"
   ]
  },
  {
   "cell_type": "code",
   "execution_count": 2,
   "id": "4ff11548",
   "metadata": {},
   "outputs": [
    {
     "name": "stdout",
     "output_type": "stream",
     "text": [
      "number of records: 600\n",
      "number of records after removal of nulls: 541\n"
     ]
    }
   ],
   "source": [
    "city_df = pd.read_csv(\"city.csv\")\n",
    "print(f\"number of records: {len(city_df)}\")\n",
    "city_df.dropna(how = \"any\", inplace = True)\n",
    "print(f\"number of records after removal of nulls: {len(city_df)}\")"
   ]
  },
  {
   "cell_type": "code",
   "execution_count": 3,
   "id": "e4a7826e",
   "metadata": {},
   "outputs": [],
   "source": [
    "locations = city_df[[\"Latitude\", \"Longitude\"]]\n",
    "weights = city_df[\"Humidity\"]"
   ]
  },
  {
   "cell_type": "code",
   "execution_count": 4,
   "id": "0987003a",
   "metadata": {},
   "outputs": [
    {
     "data": {
      "application/vnd.jupyter.widget-view+json": {
       "model_id": "86158771a09d4ba0984144522e4fd19c",
       "version_major": 2,
       "version_minor": 0
      },
      "text/plain": [
       "Figure(layout=FigureLayout(height='420px'))"
      ]
     },
     "metadata": {},
     "output_type": "display_data"
    }
   ],
   "source": [
    "fig = gmaps.figure(center = (0,0), zoom_level = 2)\n",
    "heat_layer = gmaps.heatmap_layer(locations, weights = weights, dissipating = False, max_intensity = 200, point_radius = 5)\n",
    "\n",
    "# Add layer\n",
    "fig.add_layer(heat_layer)\n",
    "\n",
    "# Display figure\n",
    "fig"
   ]
  },
  {
   "cell_type": "code",
   "execution_count": 5,
   "id": "13902142",
   "metadata": {},
   "outputs": [
    {
     "name": "stderr",
     "output_type": "stream",
     "text": [
      "<ipython-input-5-90ee5aa89e22>:2: SettingWithCopyWarning: \n",
      "A value is trying to be set on a copy of a slice from a DataFrame.\n",
      "Try using .loc[row_indexer,col_indexer] = value instead\n",
      "\n",
      "See the caveats in the documentation: https://pandas.pydata.org/pandas-docs/stable/user_guide/indexing.html#returning-a-view-versus-a-copy\n",
      "  hotel_df[\"Hotel Name\"] = \"\"\n",
      "<ipython-input-5-90ee5aa89e22>:3: SettingWithCopyWarning: \n",
      "A value is trying to be set on a copy of a slice from a DataFrame.\n",
      "Try using .loc[row_indexer,col_indexer] = value instead\n",
      "\n",
      "See the caveats in the documentation: https://pandas.pydata.org/pandas-docs/stable/user_guide/indexing.html#returning-a-view-versus-a-copy\n",
      "  hotel_df[\"Hotel Lat\"] = \"\"\n",
      "<ipython-input-5-90ee5aa89e22>:4: SettingWithCopyWarning: \n",
      "A value is trying to be set on a copy of a slice from a DataFrame.\n",
      "Try using .loc[row_indexer,col_indexer] = value instead\n",
      "\n",
      "See the caveats in the documentation: https://pandas.pydata.org/pandas-docs/stable/user_guide/indexing.html#returning-a-view-versus-a-copy\n",
      "  hotel_df[\"Hotel Lng\"] = \"\"\n"
     ]
    },
    {
     "data": {
      "text/html": [
       "<div>\n",
       "<style scoped>\n",
       "    .dataframe tbody tr th:only-of-type {\n",
       "        vertical-align: middle;\n",
       "    }\n",
       "\n",
       "    .dataframe tbody tr th {\n",
       "        vertical-align: top;\n",
       "    }\n",
       "\n",
       "    .dataframe thead th {\n",
       "        text-align: right;\n",
       "    }\n",
       "</style>\n",
       "<table border=\"1\" class=\"dataframe\">\n",
       "  <thead>\n",
       "    <tr style=\"text-align: right;\">\n",
       "      <th></th>\n",
       "      <th>City</th>\n",
       "      <th>Max Temperature</th>\n",
       "      <th>Humidity</th>\n",
       "      <th>Wind Speed</th>\n",
       "      <th>Cloudiness</th>\n",
       "      <th>Latitude</th>\n",
       "      <th>Longitude</th>\n",
       "      <th>Country</th>\n",
       "      <th>Date</th>\n",
       "      <th>Hotel Name</th>\n",
       "      <th>Hotel Lat</th>\n",
       "      <th>Hotel Lng</th>\n",
       "    </tr>\n",
       "  </thead>\n",
       "  <tbody>\n",
       "    <tr>\n",
       "      <th>0</th>\n",
       "      <td>busselton</td>\n",
       "      <td>31.14</td>\n",
       "      <td>29.0</td>\n",
       "      <td>1.96</td>\n",
       "      <td>0.0</td>\n",
       "      <td>-33.6500</td>\n",
       "      <td>115.3333</td>\n",
       "      <td>AU</td>\n",
       "      <td>1.643345e+09</td>\n",
       "      <td></td>\n",
       "      <td></td>\n",
       "      <td></td>\n",
       "    </tr>\n",
       "    <tr>\n",
       "      <th>120</th>\n",
       "      <td>vaini</td>\n",
       "      <td>27.27</td>\n",
       "      <td>31.0</td>\n",
       "      <td>10.61</td>\n",
       "      <td>32.0</td>\n",
       "      <td>-43.3002</td>\n",
       "      <td>-65.1023</td>\n",
       "      <td>AR</td>\n",
       "      <td>1.643345e+09</td>\n",
       "      <td></td>\n",
       "      <td></td>\n",
       "      <td></td>\n",
       "    </tr>\n",
       "    <tr>\n",
       "      <th>134</th>\n",
       "      <td>nanortalik</td>\n",
       "      <td>24.22</td>\n",
       "      <td>30.0</td>\n",
       "      <td>7.77</td>\n",
       "      <td>0.0</td>\n",
       "      <td>-39.0333</td>\n",
       "      <td>-67.5833</td>\n",
       "      <td>AR</td>\n",
       "      <td>1.643345e+09</td>\n",
       "      <td></td>\n",
       "      <td></td>\n",
       "      <td></td>\n",
       "    </tr>\n",
       "  </tbody>\n",
       "</table>\n",
       "</div>"
      ],
      "text/plain": [
       "           City  Max Temperature  Humidity  Wind Speed  Cloudiness  Latitude  \\\n",
       "0     busselton            31.14      29.0        1.96         0.0  -33.6500   \n",
       "120       vaini            27.27      31.0       10.61        32.0  -43.3002   \n",
       "134  nanortalik            24.22      30.0        7.77         0.0  -39.0333   \n",
       "\n",
       "     Longitude Country          Date Hotel Name Hotel Lat Hotel Lng  \n",
       "0     115.3333      AU  1.643345e+09                                 \n",
       "120   -65.1023      AR  1.643345e+09                                 \n",
       "134   -67.5833      AR  1.643345e+09                                 "
      ]
     },
     "execution_count": 5,
     "metadata": {},
     "output_type": "execute_result"
    }
   ],
   "source": [
    "hotel_df = city_df.loc[(city_df[\"Max Temperature\"] >= 23) & (city_df[\"Max Temperature\"] < 33) & (city_df[\"Humidity\"] < 35) & (city_df[\"Wind Speed\"] < 15), :]\n",
    "hotel_df[\"Hotel Name\"] = \"\"\n",
    "hotel_df[\"Hotel Lat\"] = \"\"\n",
    "hotel_df[\"Hotel Lng\"] = \"\"\n",
    "hotel_df"
   ]
  },
  {
   "cell_type": "code",
   "execution_count": 6,
   "id": "0482117d",
   "metadata": {},
   "outputs": [],
   "source": [
    "radius = 5000\n",
    "target_search = \"hotel\""
   ]
  },
  {
   "cell_type": "code",
   "execution_count": 7,
   "id": "d5ff2b37",
   "metadata": {},
   "outputs": [
    {
     "name": "stderr",
     "output_type": "stream",
     "text": [
      "C:\\Users\\freed\\anaconda3\\lib\\site-packages\\pandas\\core\\indexing.py:1817: SettingWithCopyWarning: \n",
      "A value is trying to be set on a copy of a slice from a DataFrame.\n",
      "Try using .loc[row_indexer,col_indexer] = value instead\n",
      "\n",
      "See the caveats in the documentation: https://pandas.pydata.org/pandas-docs/stable/user_guide/indexing.html#returning-a-view-versus-a-copy\n",
      "  self._setitem_single_column(loc, value, pi)\n"
     ]
    },
    {
     "name": "stdout",
     "output_type": "stream",
     "text": [
      "           City  Max Temperature  Humidity  Wind Speed  Cloudiness  Latitude  \\\n",
      "0     busselton            31.14      29.0        1.96         0.0  -33.6500   \n",
      "120       vaini            27.27      31.0       10.61        32.0  -43.3002   \n",
      "134  nanortalik            24.22      30.0        7.77         0.0  -39.0333   \n",
      "\n",
      "     Longitude Country          Date                Hotel Name  Hotel Lat  \\\n",
      "0     115.3333      AU  1.643345e+09  Bayview Geographe Resort -33.658535   \n",
      "120   -65.1023      AR  1.643345e+09         Hosteria Sampedro -43.301509   \n",
      "134   -67.5833      AR  1.643345e+09                Hotel Bait -39.041341   \n",
      "\n",
      "     Hotel Lng  \n",
      "0    115.27671  \n",
      "120 -65.104922  \n",
      "134 -67.587945  \n"
     ]
    }
   ],
   "source": [
    "# params dictionary to update each iteration\n",
    "params = {\n",
    "    \"radius\": radius,\n",
    "    \"types\": \"lodging\",\n",
    "    \"keyword\": target_search,\n",
    "    \"key\": gkey\n",
    "}\n",
    "\n",
    "# Use the lat/lng pulled in for loop\n",
    "for index, row in hotel_df.iterrows():\n",
    "    # get lat, lng from df\n",
    "    lat = row[\"Latitude\"]\n",
    "    lng = row[\"Longitude\"]\n",
    "\n",
    "    # change location each iteration while leaving original params in place\n",
    "    params[\"location\"] = f\"{lat},{lng}\"\n",
    "\n",
    "    # Use the search term: \"hotel\", using our lat/lng\n",
    "    base_url = \"https://maps.googleapis.com/maps/api/place/nearbysearch/json\"\n",
    "\n",
    "    # make request and convert into json, using pprint to enable data structure\n",
    "    hotel_address = requests.get(base_url, params=params)\n",
    "    hotel_address = hotel_address.json()\n",
    "    #pprint(hotel_address)\n",
    "    \n",
    "    # leverage try/except in case data element empty. Use pass to skip exception.\n",
    "    try:\n",
    "        hotel_df.loc[index, \"Hotel Name\"] = hotel_address[\"results\"][0][\"name\"]\n",
    "        hotel_df.loc[index, \"Hotel Lat\"] = hotel_address[\"results\"][0][\"geometry\"][\"location\"][\"lat\"]\n",
    "        hotel_df.loc[index, \"Hotel Lng\"] = hotel_address[\"results\"][0][\"geometry\"][\"location\"][\"lng\"]\n",
    "        # print updated df with hotel name to validate df updated properly\n",
    "        #print(hotel_df[\"Hotel Name\"], hotel_address[\"results\"][0][\"name\"])\n",
    "    except (KeyError, IndexError):\n",
    "        pass\n",
    "    \n",
    "print(hotel_df)"
   ]
  },
  {
   "cell_type": "code",
   "execution_count": 8,
   "id": "534518a1",
   "metadata": {},
   "outputs": [],
   "source": [
    "fig = gmaps.figure()\n",
    "\n"
   ]
  },
  {
   "cell_type": "code",
   "execution_count": null,
   "id": "bce6b41e",
   "metadata": {},
   "outputs": [],
   "source": []
  }
 ],
 "metadata": {
  "kernelspec": {
   "display_name": "pythondata",
   "language": "python",
   "name": "pythondata"
  },
  "language_info": {
   "codemirror_mode": {
    "name": "ipython",
    "version": 3
   },
   "file_extension": ".py",
   "mimetype": "text/x-python",
   "name": "python",
   "nbconvert_exporter": "python",
   "pygments_lexer": "ipython3",
   "version": "3.8.12"
  }
 },
 "nbformat": 4,
 "nbformat_minor": 5
}
