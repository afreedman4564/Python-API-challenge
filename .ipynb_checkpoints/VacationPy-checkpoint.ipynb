{
 "cells": [
  {
   "cell_type": "code",
   "execution_count": 25,
   "id": "9a92af4b",
   "metadata": {},
   "outputs": [],
   "source": [
    "# Dependencies and Setup\n",
    "import matplotlib.pyplot as plt\n",
    "import pandas as pd\n",
    "import numpy as np\n",
    "import requests\n",
    "import gmaps\n",
    "import os\n",
    "from pprint import pprint\n",
    "from ipywidgets.embed import embed_minimal_html\n",
    "\n",
    "# Import API key\n",
    "from api_keys import gkey\n",
    "gmaps.configure(api_key = gkey)"
   ]
  },
  {
   "cell_type": "code",
   "execution_count": 37,
   "id": "4ff11548",
   "metadata": {},
   "outputs": [
    {
     "name": "stdout",
     "output_type": "stream",
     "text": [
      "number of records: 1000\n",
      "number of records after removal of nulls: 897\n"
     ]
    }
   ],
   "source": [
    "city_df = pd.read_csv(\"city.csv\")\n",
    "print(f\"number of records: {len(city_df)}\")\n",
    "city_df.dropna(how = \"any\", inplace = True)\n",
    "print(f\"number of records after removal of nulls: {len(city_df)}\")"
   ]
  },
  {
   "cell_type": "code",
   "execution_count": 38,
   "id": "e4a7826e",
   "metadata": {},
   "outputs": [],
   "source": [
    "locations = city_df[[\"Latitude\", \"Longitude\"]]\n",
    "weights = city_df[\"Humidity\"]"
   ]
  },
  {
   "cell_type": "code",
   "execution_count": 39,
   "id": "0987003a",
   "metadata": {},
   "outputs": [
    {
     "data": {
      "application/vnd.jupyter.widget-view+json": {
       "model_id": "c95fe36cffe743a892ab2aa5b019f4f5",
       "version_major": 2,
       "version_minor": 0
      },
      "text/plain": [
       "Figure(layout=FigureLayout(height='420px'))"
      ]
     },
     "metadata": {},
     "output_type": "display_data"
    }
   ],
   "source": [
    "fig = gmaps.figure(center = (0,0), zoom_level = 2)\n",
    "heat_layer = gmaps.heatmap_layer(locations, weights = weights, dissipating = False, max_intensity = 200, point_radius = 5)\n",
    "\n",
    "# Add layer\n",
    "fig.add_layer(heat_layer)\n",
    "\n",
    "# Display figure\n",
    "fig\n",
    "\n"
   ]
  },
  {
   "cell_type": "code",
   "execution_count": 40,
   "id": "13902142",
   "metadata": {},
   "outputs": [
    {
     "name": "stderr",
     "output_type": "stream",
     "text": [
      "<ipython-input-40-214d1f31ac92>:2: SettingWithCopyWarning: \n",
      "A value is trying to be set on a copy of a slice from a DataFrame.\n",
      "Try using .loc[row_indexer,col_indexer] = value instead\n",
      "\n",
      "See the caveats in the documentation: https://pandas.pydata.org/pandas-docs/stable/user_guide/indexing.html#returning-a-view-versus-a-copy\n",
      "  hotel_df[\"Hotel Name\"] = \"\"\n",
      "<ipython-input-40-214d1f31ac92>:3: SettingWithCopyWarning: \n",
      "A value is trying to be set on a copy of a slice from a DataFrame.\n",
      "Try using .loc[row_indexer,col_indexer] = value instead\n",
      "\n",
      "See the caveats in the documentation: https://pandas.pydata.org/pandas-docs/stable/user_guide/indexing.html#returning-a-view-versus-a-copy\n",
      "  hotel_df[\"Hotel Lat\"] = \"\"\n",
      "<ipython-input-40-214d1f31ac92>:4: SettingWithCopyWarning: \n",
      "A value is trying to be set on a copy of a slice from a DataFrame.\n",
      "Try using .loc[row_indexer,col_indexer] = value instead\n",
      "\n",
      "See the caveats in the documentation: https://pandas.pydata.org/pandas-docs/stable/user_guide/indexing.html#returning-a-view-versus-a-copy\n",
      "  hotel_df[\"Hotel Lng\"] = \"\"\n"
     ]
    },
    {
     "data": {
      "text/html": [
       "<div>\n",
       "<style scoped>\n",
       "    .dataframe tbody tr th:only-of-type {\n",
       "        vertical-align: middle;\n",
       "    }\n",
       "\n",
       "    .dataframe tbody tr th {\n",
       "        vertical-align: top;\n",
       "    }\n",
       "\n",
       "    .dataframe thead th {\n",
       "        text-align: right;\n",
       "    }\n",
       "</style>\n",
       "<table border=\"1\" class=\"dataframe\">\n",
       "  <thead>\n",
       "    <tr style=\"text-align: right;\">\n",
       "      <th></th>\n",
       "      <th>City</th>\n",
       "      <th>Max Temperature</th>\n",
       "      <th>Humidity</th>\n",
       "      <th>Wind Speed</th>\n",
       "      <th>Cloudiness</th>\n",
       "      <th>Latitude</th>\n",
       "      <th>Longitude</th>\n",
       "      <th>Country</th>\n",
       "      <th>Date</th>\n",
       "      <th>Hotel Name</th>\n",
       "      <th>Hotel Lat</th>\n",
       "      <th>Hotel Lng</th>\n",
       "    </tr>\n",
       "  </thead>\n",
       "  <tbody>\n",
       "    <tr>\n",
       "      <th>150</th>\n",
       "      <td>naryan-mar</td>\n",
       "      <td>24.16</td>\n",
       "      <td>14.0</td>\n",
       "      <td>4.11</td>\n",
       "      <td>94.0</td>\n",
       "      <td>10.3744</td>\n",
       "      <td>10.7288</td>\n",
       "      <td>NG</td>\n",
       "      <td>1.643567e+09</td>\n",
       "      <td></td>\n",
       "      <td></td>\n",
       "      <td></td>\n",
       "    </tr>\n",
       "    <tr>\n",
       "      <th>374</th>\n",
       "      <td>tucuman</td>\n",
       "      <td>31.59</td>\n",
       "      <td>10.0</td>\n",
       "      <td>2.60</td>\n",
       "      <td>73.0</td>\n",
       "      <td>9.8833</td>\n",
       "      <td>-2.9167</td>\n",
       "      <td>BF</td>\n",
       "      <td>1.643567e+09</td>\n",
       "      <td></td>\n",
       "      <td></td>\n",
       "      <td></td>\n",
       "    </tr>\n",
       "    <tr>\n",
       "      <th>394</th>\n",
       "      <td>kichmengskiy gorodok</td>\n",
       "      <td>31.13</td>\n",
       "      <td>11.0</td>\n",
       "      <td>2.38</td>\n",
       "      <td>91.0</td>\n",
       "      <td>9.0333</td>\n",
       "      <td>1.4167</td>\n",
       "      <td>TG</td>\n",
       "      <td>1.643567e+09</td>\n",
       "      <td></td>\n",
       "      <td></td>\n",
       "      <td></td>\n",
       "    </tr>\n",
       "    <tr>\n",
       "      <th>396</th>\n",
       "      <td>pacific grove</td>\n",
       "      <td>25.04</td>\n",
       "      <td>13.0</td>\n",
       "      <td>4.96</td>\n",
       "      <td>5.0</td>\n",
       "      <td>20.1986</td>\n",
       "      <td>1.0114</td>\n",
       "      <td>ML</td>\n",
       "      <td>1.643567e+09</td>\n",
       "      <td></td>\n",
       "      <td></td>\n",
       "      <td></td>\n",
       "    </tr>\n",
       "    <tr>\n",
       "      <th>605</th>\n",
       "      <td>madera</td>\n",
       "      <td>26.51</td>\n",
       "      <td>11.0</td>\n",
       "      <td>4.15</td>\n",
       "      <td>99.0</td>\n",
       "      <td>20.5022</td>\n",
       "      <td>-10.0711</td>\n",
       "      <td>MR</td>\n",
       "      <td>1.643567e+09</td>\n",
       "      <td></td>\n",
       "      <td></td>\n",
       "      <td></td>\n",
       "    </tr>\n",
       "    <tr>\n",
       "      <th>610</th>\n",
       "      <td>xiongzhou</td>\n",
       "      <td>25.40</td>\n",
       "      <td>14.0</td>\n",
       "      <td>2.38</td>\n",
       "      <td>100.0</td>\n",
       "      <td>7.3706</td>\n",
       "      <td>7.6253</td>\n",
       "      <td>NG</td>\n",
       "      <td>1.643567e+09</td>\n",
       "      <td></td>\n",
       "      <td></td>\n",
       "      <td></td>\n",
       "    </tr>\n",
       "    <tr>\n",
       "      <th>713</th>\n",
       "      <td>hirara</td>\n",
       "      <td>29.08</td>\n",
       "      <td>9.0</td>\n",
       "      <td>4.26</td>\n",
       "      <td>63.0</td>\n",
       "      <td>12.8347</td>\n",
       "      <td>-4.9244</td>\n",
       "      <td>ML</td>\n",
       "      <td>1.643568e+09</td>\n",
       "      <td></td>\n",
       "      <td></td>\n",
       "      <td></td>\n",
       "    </tr>\n",
       "  </tbody>\n",
       "</table>\n",
       "</div>"
      ],
      "text/plain": [
       "                     City  Max Temperature  Humidity  Wind Speed  Cloudiness  \\\n",
       "150            naryan-mar            24.16      14.0        4.11        94.0   \n",
       "374               tucuman            31.59      10.0        2.60        73.0   \n",
       "394  kichmengskiy gorodok            31.13      11.0        2.38        91.0   \n",
       "396         pacific grove            25.04      13.0        4.96         5.0   \n",
       "605                madera            26.51      11.0        4.15        99.0   \n",
       "610             xiongzhou            25.40      14.0        2.38       100.0   \n",
       "713                hirara            29.08       9.0        4.26        63.0   \n",
       "\n",
       "     Latitude  Longitude Country          Date Hotel Name Hotel Lat Hotel Lng  \n",
       "150   10.3744    10.7288      NG  1.643567e+09                                 \n",
       "374    9.8833    -2.9167      BF  1.643567e+09                                 \n",
       "394    9.0333     1.4167      TG  1.643567e+09                                 \n",
       "396   20.1986     1.0114      ML  1.643567e+09                                 \n",
       "605   20.5022   -10.0711      MR  1.643567e+09                                 \n",
       "610    7.3706     7.6253      NG  1.643567e+09                                 \n",
       "713   12.8347    -4.9244      ML  1.643568e+09                                 "
      ]
     },
     "execution_count": 40,
     "metadata": {},
     "output_type": "execute_result"
    }
   ],
   "source": [
    "hotel_df = city_df.loc[(city_df[\"Max Temperature\"] >= 23) & (city_df[\"Max Temperature\"] < 33) & (city_df[\"Humidity\"] < 15) & (city_df[\"Wind Speed\"] < 5), :]\n",
    "hotel_df[\"Hotel Name\"] = \"\"\n",
    "hotel_df[\"Hotel Lat\"] = \"\"\n",
    "hotel_df[\"Hotel Lng\"] = \"\"\n",
    "hotel_df"
   ]
  },
  {
   "cell_type": "code",
   "execution_count": 41,
   "id": "4fc71a33",
   "metadata": {},
   "outputs": [],
   "source": [
    "radius = 5000\n",
    "target_search = \"hotel\""
   ]
  },
  {
   "cell_type": "code",
   "execution_count": 42,
   "id": "013437d6",
   "metadata": {},
   "outputs": [
    {
     "name": "stderr",
     "output_type": "stream",
     "text": [
      "C:\\Users\\freed\\anaconda3\\lib\\site-packages\\pandas\\core\\indexing.py:1817: SettingWithCopyWarning: \n",
      "A value is trying to be set on a copy of a slice from a DataFrame.\n",
      "Try using .loc[row_indexer,col_indexer] = value instead\n",
      "\n",
      "See the caveats in the documentation: https://pandas.pydata.org/pandas-docs/stable/user_guide/indexing.html#returning-a-view-versus-a-copy\n",
      "  self._setitem_single_column(loc, value, pi)\n"
     ]
    },
    {
     "name": "stdout",
     "output_type": "stream",
     "text": [
      "                     City  Max Temperature  Humidity  Wind Speed  Cloudiness  \\\n",
      "150            naryan-mar            24.16      14.0        4.11        94.0   \n",
      "374               tucuman            31.59      10.0        2.60        73.0   \n",
      "394  kichmengskiy gorodok            31.13      11.0        2.38        91.0   \n",
      "396         pacific grove            25.04      13.0        4.96         5.0   \n",
      "605                madera            26.51      11.0        4.15        99.0   \n",
      "610             xiongzhou            25.40      14.0        2.38       100.0   \n",
      "713                hirara            29.08       9.0        4.26        63.0   \n",
      "\n",
      "     Latitude  Longitude Country          Date           Hotel Name Hotel Lat  \\\n",
      "150   10.3744    10.7288      NG  1.643567e+09                                  \n",
      "374    9.8833    -2.9167      BF  1.643567e+09                                  \n",
      "394    9.0333     1.4167      TG  1.643567e+09  ROYAL HOTEL TCHAMBA  9.028424   \n",
      "396   20.1986     1.0114      ML  1.643567e+09                                  \n",
      "605   20.5022   -10.0711      MR  1.643567e+09                                  \n",
      "610    7.3706     7.6253      NG  1.643567e+09         Ikani Suites  7.395083   \n",
      "713   12.8347    -4.9244      ML  1.643568e+09                                  \n",
      "\n",
      "    Hotel Lng  \n",
      "150            \n",
      "374            \n",
      "394  1.412325  \n",
      "396            \n",
      "605            \n",
      "610  7.631095  \n",
      "713            \n"
     ]
    }
   ],
   "source": [
    "# params dictionary to update each iteration\n",
    "params = {\n",
    "    \"radius\": radius,\n",
    "    \"types\": \"lodging\",\n",
    "    \"keyword\": target_search,\n",
    "    \"key\": gkey\n",
    "}\n",
    "\n",
    "# Use the lat/lng pulled in for loop\n",
    "for index, row in hotel_df.iterrows():\n",
    "    # get lat, lng from df\n",
    "    lat = row[\"Latitude\"]\n",
    "    lng = row[\"Longitude\"]\n",
    "\n",
    "    # change location each iteration while leaving original params in place\n",
    "    params[\"location\"] = f\"{lat},{lng}\"\n",
    "\n",
    "    # Use the search term: \"hotel\", using our lat/lng\n",
    "    base_url = \"https://maps.googleapis.com/maps/api/place/nearbysearch/json\"\n",
    "\n",
    "    # make request and convert into json, using pprint to enable data structure\n",
    "    hotel_address = requests.get(base_url, params=params)\n",
    "    hotel_address = hotel_address.json()\n",
    "    #pprint(hotel_address)\n",
    "    \n",
    "    # leverage try/except in case data element empty. Use pass to skip exception.\n",
    "    try:\n",
    "        hotel_df.loc[index, \"Hotel Name\"] = hotel_address[\"results\"][0][\"name\"]\n",
    "        hotel_df.loc[index, \"Hotel Lat\"] = hotel_address[\"results\"][0][\"geometry\"][\"location\"][\"lat\"]\n",
    "        hotel_df.loc[index, \"Hotel Lng\"] = hotel_address[\"results\"][0][\"geometry\"][\"location\"][\"lng\"]\n",
    "        # print updated df with hotel name to validate df updated properly\n",
    "        #print(hotel_df[\"Hotel Name\"], hotel_address[\"results\"][0][\"name\"])\n",
    "    except (KeyError, IndexError):\n",
    "        pass\n",
    "    \n",
    "print(hotel_df)"
   ]
  },
  {
   "cell_type": "code",
   "execution_count": 43,
   "id": "8c30371d",
   "metadata": {},
   "outputs": [
    {
     "data": {
      "text/plain": [
       "{'html_attributions': [], 'results': [], 'status': 'ZERO_RESULTS'}"
      ]
     },
     "execution_count": 43,
     "metadata": {},
     "output_type": "execute_result"
    }
   ],
   "source": [
    "hotel_address"
   ]
  },
  {
   "cell_type": "code",
   "execution_count": 44,
   "id": "4ce2ae11",
   "metadata": {},
   "outputs": [
    {
     "name": "stdout",
     "output_type": "stream",
     "text": [
      "Number of Desirable Hotels: 2\n"
     ]
    },
    {
     "data": {
      "text/plain": [
       "['ROYAL HOTEL TCHAMBA, kichmengskiy gorodok, TG',\n",
       " 'Ikani Suites, xiongzhou, NG']"
      ]
     },
     "execution_count": 44,
     "metadata": {},
     "output_type": "execute_result"
    }
   ],
   "source": [
    "hotel_df = hotel_df.loc[hotel_df[\"Hotel Name\"] != \"\", :]\n",
    "print(f\"Number of Desirable Hotels: {len(hotel_df)}\")\n",
    "\n",
    "marker_locations = hotel_df[[\"Hotel Lat\", \"Hotel Lng\"]]\n",
    "marker_locations\n",
    "\n",
    "hotel_list = hotel_df[\"Hotel Name\"]\n",
    "hotel_nm_df = pd.DataFrame(hotel_list)\n",
    "hotel_nm_df.dropna(how = \"any\", inplace = True)\n",
    "marker_string = (hotel_df[\"Hotel Name\"] + \", \" + hotel_df[\"City\"] + \", \" + hotel_df[\"Country\"]).tolist()\n",
    "marker_string"
   ]
  },
  {
   "cell_type": "code",
   "execution_count": 45,
   "id": "7cfccd33",
   "metadata": {},
   "outputs": [
    {
     "data": {
      "text/html": [
       "<div>\n",
       "<style scoped>\n",
       "    .dataframe tbody tr th:only-of-type {\n",
       "        vertical-align: middle;\n",
       "    }\n",
       "\n",
       "    .dataframe tbody tr th {\n",
       "        vertical-align: top;\n",
       "    }\n",
       "\n",
       "    .dataframe thead th {\n",
       "        text-align: right;\n",
       "    }\n",
       "</style>\n",
       "<table border=\"1\" class=\"dataframe\">\n",
       "  <thead>\n",
       "    <tr style=\"text-align: right;\">\n",
       "      <th></th>\n",
       "      <th>City</th>\n",
       "      <th>Max Temperature</th>\n",
       "      <th>Humidity</th>\n",
       "      <th>Wind Speed</th>\n",
       "      <th>Cloudiness</th>\n",
       "      <th>Latitude</th>\n",
       "      <th>Longitude</th>\n",
       "      <th>Country</th>\n",
       "      <th>Date</th>\n",
       "      <th>Hotel Name</th>\n",
       "      <th>Hotel Lat</th>\n",
       "      <th>Hotel Lng</th>\n",
       "    </tr>\n",
       "  </thead>\n",
       "  <tbody>\n",
       "    <tr>\n",
       "      <th>394</th>\n",
       "      <td>kichmengskiy gorodok</td>\n",
       "      <td>31.13</td>\n",
       "      <td>11.0</td>\n",
       "      <td>2.38</td>\n",
       "      <td>91.0</td>\n",
       "      <td>9.0333</td>\n",
       "      <td>1.4167</td>\n",
       "      <td>TG</td>\n",
       "      <td>1.643567e+09</td>\n",
       "      <td>ROYAL HOTEL TCHAMBA</td>\n",
       "      <td>9.028424</td>\n",
       "      <td>1.412325</td>\n",
       "    </tr>\n",
       "    <tr>\n",
       "      <th>610</th>\n",
       "      <td>xiongzhou</td>\n",
       "      <td>25.40</td>\n",
       "      <td>14.0</td>\n",
       "      <td>2.38</td>\n",
       "      <td>100.0</td>\n",
       "      <td>7.3706</td>\n",
       "      <td>7.6253</td>\n",
       "      <td>NG</td>\n",
       "      <td>1.643567e+09</td>\n",
       "      <td>Ikani Suites</td>\n",
       "      <td>7.395083</td>\n",
       "      <td>7.631095</td>\n",
       "    </tr>\n",
       "  </tbody>\n",
       "</table>\n",
       "</div>"
      ],
      "text/plain": [
       "                     City  Max Temperature  Humidity  Wind Speed  Cloudiness  \\\n",
       "394  kichmengskiy gorodok            31.13      11.0        2.38        91.0   \n",
       "610             xiongzhou            25.40      14.0        2.38       100.0   \n",
       "\n",
       "     Latitude  Longitude Country          Date           Hotel Name Hotel Lat  \\\n",
       "394    9.0333     1.4167      TG  1.643567e+09  ROYAL HOTEL TCHAMBA  9.028424   \n",
       "610    7.3706     7.6253      NG  1.643567e+09         Ikani Suites  7.395083   \n",
       "\n",
       "    Hotel Lng  \n",
       "394  1.412325  \n",
       "610  7.631095  "
      ]
     },
     "execution_count": 45,
     "metadata": {},
     "output_type": "execute_result"
    }
   ],
   "source": [
    "hotel_df"
   ]
  },
  {
   "cell_type": "code",
   "execution_count": 46,
   "id": "55d79fbe",
   "metadata": {},
   "outputs": [
    {
     "data": {
      "application/vnd.jupyter.widget-view+json": {
       "model_id": "f32955c27b5c407a95793cb195ab766f",
       "version_major": 2,
       "version_minor": 0
      },
      "text/plain": [
       "Figure(layout=FigureLayout(height='420px'))"
      ]
     },
     "metadata": {},
     "output_type": "display_data"
    }
   ],
   "source": [
    "fig = gmaps.figure(center = (0,0), zoom_level = 2)\n",
    "heat_layer = gmaps.heatmap_layer(locations, weights = weights, dissipating = False, max_intensity = 200, point_radius = 5)\n",
    "markers = gmaps.marker_layer(marker_locations, info_box_content = [f\"{hotel_name}\" for hotel_name in marker_string])\n",
    "fig.add_layer(markers)\n",
    "# Add layer\n",
    "fig.add_layer(heat_layer)\n",
    "# Display figure\n",
    "fig\n"
   ]
  },
  {
   "cell_type": "code",
   "execution_count": null,
   "id": "5be2e1a4",
   "metadata": {},
   "outputs": [],
   "source": []
  }
 ],
 "metadata": {
  "kernelspec": {
   "display_name": "pythondata",
   "language": "python",
   "name": "pythondata"
  },
  "language_info": {
   "codemirror_mode": {
    "name": "ipython",
    "version": 3
   },
   "file_extension": ".py",
   "mimetype": "text/x-python",
   "name": "python",
   "nbconvert_exporter": "python",
   "pygments_lexer": "ipython3",
   "version": "3.8.12"
  }
 },
 "nbformat": 4,
 "nbformat_minor": 5
}
